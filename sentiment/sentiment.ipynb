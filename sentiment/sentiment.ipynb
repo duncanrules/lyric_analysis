{
 "cells": [
  {
   "cell_type": "markdown",
   "metadata": {},
   "source": [
    "# Read-in"
   ]
  },
  {
   "cell_type": "code",
   "execution_count": 8,
   "metadata": {},
   "outputs": [
    {
     "name": "stdout",
     "output_type": "stream",
     "text": [
      "[nltk_data] Downloading package vader_lexicon to\n",
      "[nltk_data]     C:\\Users\\Duncan\\AppData\\Roaming\\nltk_data...\n"
     ]
    }
   ],
   "source": [
    "import nltk\n",
    "nltk.download('vader_lexicon')\n",
    "import pandas as pd\n",
    "from nltk.sentiment.vader import SentimentIntensityAnalyzer"
   ]
  },
  {
   "cell_type": "code",
   "execution_count": 85,
   "metadata": {},
   "outputs": [
    {
     "data": {
      "text/plain": [
       "(543303, 4)"
      ]
     },
     "execution_count": 85,
     "metadata": {},
     "output_type": "execute_result"
    }
   ],
   "source": [
    "#read in data\n",
    "\n",
    "path = r'C:\\Users\\Duncan\\Desktop\\School\\Data Mining\\data\\\\'\n",
    "file = r'full_cleaned_lyrics.csv'\n",
    "\n",
    "df = pd.read_csv(path+file)\n",
    "df.shape"
   ]
  },
  {
   "cell_type": "code",
   "execution_count": 86,
   "metadata": {},
   "outputs": [
    {
     "data": {
      "text/plain": [
       "(528412, 4)"
      ]
     },
     "execution_count": 86,
     "metadata": {},
     "output_type": "execute_result"
    }
   ],
   "source": [
    "#drop duplicates\n",
    "\n",
    "df.drop_duplicates(subset=('title', 'artist'), inplace=True)\n",
    "df.reset_index(inplace=True, drop=True)\n",
    "df.shape"
   ]
  },
  {
   "cell_type": "code",
   "execution_count": 87,
   "metadata": {},
   "outputs": [
    {
     "data": {
      "text/html": [
       "<div>\n",
       "<style>\n",
       "    .dataframe thead tr:only-child th {\n",
       "        text-align: right;\n",
       "    }\n",
       "\n",
       "    .dataframe thead th {\n",
       "        text-align: left;\n",
       "    }\n",
       "\n",
       "    .dataframe tbody tr th {\n",
       "        vertical-align: top;\n",
       "    }\n",
       "</style>\n",
       "<table border=\"1\" class=\"dataframe\">\n",
       "  <thead>\n",
       "    <tr style=\"text-align: right;\">\n",
       "      <th></th>\n",
       "      <th>title</th>\n",
       "      <th>artist</th>\n",
       "      <th>chart</th>\n",
       "      <th>full_lyrics</th>\n",
       "    </tr>\n",
       "  </thead>\n",
       "  <tbody>\n",
       "    <tr>\n",
       "      <th>0</th>\n",
       "      <td>0 0 7 shanty town</td>\n",
       "      <td>desmond dekker</td>\n",
       "      <td>0</td>\n",
       "      <td>007 007 at ocean eleven and now rudeboys have ...</td>\n",
       "    </tr>\n",
       "    <tr>\n",
       "      <th>1</th>\n",
       "      <td>0 9</td>\n",
       "      <td>booba</td>\n",
       "      <td>0</td>\n",
       "      <td>cest quoi cest de la 0 9 si si de la 0 9 de la...</td>\n",
       "    </tr>\n",
       "    <tr>\n",
       "      <th>2</th>\n",
       "      <td>0 rhesus negativ</td>\n",
       "      <td>udo lindenberg</td>\n",
       "      <td>0</td>\n",
       "      <td>es war mitternacht ich ging spazieren da bemer...</td>\n",
       "    </tr>\n",
       "    <tr>\n",
       "      <th>3</th>\n",
       "      <td>0 to 100 the catch up</td>\n",
       "      <td>drake</td>\n",
       "      <td>1</td>\n",
       "      <td>part i 0 to 100 verse 1 fuck bein on some chil...</td>\n",
       "    </tr>\n",
       "    <tr>\n",
       "      <th>4</th>\n",
       "      <td>00 00 a m</td>\n",
       "      <td>alex britti</td>\n",
       "      <td>0</td>\n",
       "      <td>instrumental</td>\n",
       "    </tr>\n",
       "    <tr>\n",
       "      <th>5</th>\n",
       "      <td>000 000</td>\n",
       "      <td>beck</td>\n",
       "      <td>0</td>\n",
       "      <td>all the way pixel in the light comin next year...</td>\n",
       "    </tr>\n",
       "    <tr>\n",
       "      <th>6</th>\n",
       "      <td>00000 million</td>\n",
       "      <td>bon iver</td>\n",
       "      <td>0</td>\n",
       "      <td>mustve been forces that took me on them wild c...</td>\n",
       "    </tr>\n",
       "    <tr>\n",
       "      <th>7</th>\n",
       "      <td>001646</td>\n",
       "      <td>kalimba</td>\n",
       "      <td>0</td>\n",
       "      <td>que hora es aya perdoname solo escuchame why n...</td>\n",
       "    </tr>\n",
       "    <tr>\n",
       "      <th>8</th>\n",
       "      <td>007</td>\n",
       "      <td>derrick morgan</td>\n",
       "      <td>0</td>\n",
       "      <td>007 007 at ocean 11 and now rude boys have go ...</td>\n",
       "    </tr>\n",
       "    <tr>\n",
       "      <th>9</th>\n",
       "      <td>007</td>\n",
       "      <td>musical youth</td>\n",
       "      <td>0</td>\n",
       "      <td>a special request and a popular demand to all ...</td>\n",
       "    </tr>\n",
       "  </tbody>\n",
       "</table>\n",
       "</div>"
      ],
      "text/plain": [
       "                   title          artist  chart  \\\n",
       "0      0 0 7 shanty town  desmond dekker      0   \n",
       "1                    0 9           booba      0   \n",
       "2       0 rhesus negativ  udo lindenberg      0   \n",
       "3  0 to 100 the catch up           drake      1   \n",
       "4              00 00 a m     alex britti      0   \n",
       "5                000 000            beck      0   \n",
       "6          00000 million        bon iver      0   \n",
       "7                 001646         kalimba      0   \n",
       "8                    007  derrick morgan      0   \n",
       "9                    007   musical youth      0   \n",
       "\n",
       "                                         full_lyrics  \n",
       "0  007 007 at ocean eleven and now rudeboys have ...  \n",
       "1  cest quoi cest de la 0 9 si si de la 0 9 de la...  \n",
       "2  es war mitternacht ich ging spazieren da bemer...  \n",
       "3  part i 0 to 100 verse 1 fuck bein on some chil...  \n",
       "4                                       instrumental  \n",
       "5  all the way pixel in the light comin next year...  \n",
       "6  mustve been forces that took me on them wild c...  \n",
       "7  que hora es aya perdoname solo escuchame why n...  \n",
       "8  007 007 at ocean 11 and now rude boys have go ...  \n",
       "9  a special request and a popular demand to all ...  "
      ]
     },
     "execution_count": 87,
     "metadata": {},
     "output_type": "execute_result"
    }
   ],
   "source": [
    "df.head(10)"
   ]
  },
  {
   "cell_type": "markdown",
   "metadata": {},
   "source": [
    "# Sentiment"
   ]
  },
  {
   "cell_type": "code",
   "execution_count": 29,
   "metadata": {
    "collapsed": true
   },
   "outputs": [],
   "source": [
    "sid = SentimentIntensityAnalyzer()"
   ]
  },
  {
   "cell_type": "code",
   "execution_count": 88,
   "metadata": {},
   "outputs": [
    {
     "data": {
      "text/plain": [
       "528412"
      ]
     },
     "execution_count": 88,
     "metadata": {},
     "output_type": "execute_result"
    }
   ],
   "source": [
    "docs = [str(x) for x in df.full_lyrics]\n",
    "\n",
    "sentiment_scores = [sid.polarity_scores(x) for x in docs]\n",
    "len(sentiment_scores)"
   ]
  },
  {
   "cell_type": "code",
   "execution_count": 93,
   "metadata": {
    "collapsed": true
   },
   "outputs": [],
   "source": [
    "sentiment_df = pd.DataFrame(sentiment_scores)"
   ]
  },
  {
   "cell_type": "code",
   "execution_count": 94,
   "metadata": {},
   "outputs": [
    {
     "data": {
      "text/plain": [
       "(528412, 4)"
      ]
     },
     "execution_count": 94,
     "metadata": {},
     "output_type": "execute_result"
    }
   ],
   "source": [
    "sentiment_df.shape"
   ]
  },
  {
   "cell_type": "code",
   "execution_count": 95,
   "metadata": {},
   "outputs": [
    {
     "data": {
      "text/html": [
       "<div>\n",
       "<style>\n",
       "    .dataframe thead tr:only-child th {\n",
       "        text-align: right;\n",
       "    }\n",
       "\n",
       "    .dataframe thead th {\n",
       "        text-align: left;\n",
       "    }\n",
       "\n",
       "    .dataframe tbody tr th {\n",
       "        vertical-align: top;\n",
       "    }\n",
       "</style>\n",
       "<table border=\"1\" class=\"dataframe\">\n",
       "  <thead>\n",
       "    <tr style=\"text-align: right;\">\n",
       "      <th></th>\n",
       "      <th>compound</th>\n",
       "      <th>neg</th>\n",
       "      <th>neu</th>\n",
       "      <th>pos</th>\n",
       "    </tr>\n",
       "  </thead>\n",
       "  <tbody>\n",
       "    <tr>\n",
       "      <th>0</th>\n",
       "      <td>-0.9758</td>\n",
       "      <td>0.197</td>\n",
       "      <td>0.768</td>\n",
       "      <td>0.035</td>\n",
       "    </tr>\n",
       "    <tr>\n",
       "      <th>1</th>\n",
       "      <td>-0.8074</td>\n",
       "      <td>0.036</td>\n",
       "      <td>0.948</td>\n",
       "      <td>0.016</td>\n",
       "    </tr>\n",
       "    <tr>\n",
       "      <th>2</th>\n",
       "      <td>-0.9136</td>\n",
       "      <td>0.052</td>\n",
       "      <td>0.948</td>\n",
       "      <td>0.000</td>\n",
       "    </tr>\n",
       "    <tr>\n",
       "      <th>3</th>\n",
       "      <td>-0.9992</td>\n",
       "      <td>0.191</td>\n",
       "      <td>0.743</td>\n",
       "      <td>0.066</td>\n",
       "    </tr>\n",
       "    <tr>\n",
       "      <th>4</th>\n",
       "      <td>0.0000</td>\n",
       "      <td>0.000</td>\n",
       "      <td>1.000</td>\n",
       "      <td>0.000</td>\n",
       "    </tr>\n",
       "  </tbody>\n",
       "</table>\n",
       "</div>"
      ],
      "text/plain": [
       "   compound    neg    neu    pos\n",
       "0   -0.9758  0.197  0.768  0.035\n",
       "1   -0.8074  0.036  0.948  0.016\n",
       "2   -0.9136  0.052  0.948  0.000\n",
       "3   -0.9992  0.191  0.743  0.066\n",
       "4    0.0000  0.000  1.000  0.000"
      ]
     },
     "execution_count": 95,
     "metadata": {},
     "output_type": "execute_result"
    }
   ],
   "source": [
    "sentiment_df.head()"
   ]
  },
  {
   "cell_type": "code",
   "execution_count": null,
   "metadata": {
    "collapsed": true
   },
   "outputs": [],
   "source": [
    "sentiment_df.to_csv()"
   ]
  }
 ],
 "metadata": {
  "kernelspec": {
   "display_name": "Python 3",
   "language": "python",
   "name": "python3"
  },
  "language_info": {
   "codemirror_mode": {
    "name": "ipython",
    "version": 3
   },
   "file_extension": ".py",
   "mimetype": "text/x-python",
   "name": "python",
   "nbconvert_exporter": "python",
   "pygments_lexer": "ipython3",
   "version": "3.6.3"
  },
  "varInspector": {
   "cols": {
    "lenName": 16,
    "lenType": 16,
    "lenVar": 40
   },
   "kernels_config": {
    "python": {
     "delete_cmd_postfix": "",
     "delete_cmd_prefix": "del ",
     "library": "var_list.py",
     "varRefreshCmd": "print(var_dic_list())"
    },
    "r": {
     "delete_cmd_postfix": ") ",
     "delete_cmd_prefix": "rm(",
     "library": "var_list.r",
     "varRefreshCmd": "cat(var_dic_list()) "
    }
   },
   "types_to_exclude": [
    "module",
    "function",
    "builtin_function_or_method",
    "instance",
    "_Feature"
   ],
   "window_display": false
  }
 },
 "nbformat": 4,
 "nbformat_minor": 2
}
